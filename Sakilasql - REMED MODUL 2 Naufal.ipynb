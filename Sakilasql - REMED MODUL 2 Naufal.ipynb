{
 "metadata": {
  "language_info": {
   "codemirror_mode": {
    "name": "ipython",
    "version": 3
   },
   "file_extension": ".py",
   "mimetype": "text/x-python",
   "name": "python",
   "nbconvert_exporter": "python",
   "pygments_lexer": "ipython3",
   "version": "3.8.5-final"
  },
  "orig_nbformat": 2,
  "kernelspec": {
   "name": "python3",
   "display_name": "Python 3",
   "language": "python"
  }
 },
 "nbformat": 4,
 "nbformat_minor": 2,
 "cells": [
  {
   "cell_type": "code",
   "execution_count": 3,
   "metadata": {},
   "outputs": [],
   "source": [
    "import pandas as pd\n",
    "import mysql.connector"
   ]
  },
  {
   "cell_type": "code",
   "execution_count": 4,
   "metadata": {},
   "outputs": [],
   "source": [
    "mydb = mysql.connector.connect(\n",
    "    host= 'localhost',\n",
    "    user= 'root',\n",
    "    passwd= 'Akupebisnisno01',\n",
    "    database='sakila')\n"
   ]
  },
  {
   "cell_type": "code",
   "execution_count": 5,
   "metadata": {},
   "outputs": [
    {
     "output_type": "execute_result",
     "data": {
      "text/plain": [
       "              Tables_in_sakila  Table_type\n",
       "0                        actor  BASE TABLE\n",
       "1                   actor_info        VIEW\n",
       "2                      address  BASE TABLE\n",
       "3                     category  BASE TABLE\n",
       "4                         city  BASE TABLE\n",
       "5                      country  BASE TABLE\n",
       "6                     customer  BASE TABLE\n",
       "7                customer_list        VIEW\n",
       "8                         film  BASE TABLE\n",
       "9                   film_actor  BASE TABLE\n",
       "10               film_category  BASE TABLE\n",
       "11                   film_list        VIEW\n",
       "12                   film_text  BASE TABLE\n",
       "13                   inventory  BASE TABLE\n",
       "14                    language  BASE TABLE\n",
       "15  nicer_but_slower_film_list        VIEW\n",
       "16                     payment  BASE TABLE\n",
       "17                      rental  BASE TABLE\n",
       "18      sales_by_film_category        VIEW\n",
       "19              sales_by_store        VIEW\n",
       "20                       staff  BASE TABLE\n",
       "21                  staff_list        VIEW\n",
       "22                       store  BASE TABLE"
      ],
      "text/html": "<div>\n<style scoped>\n    .dataframe tbody tr th:only-of-type {\n        vertical-align: middle;\n    }\n\n    .dataframe tbody tr th {\n        vertical-align: top;\n    }\n\n    .dataframe thead th {\n        text-align: right;\n    }\n</style>\n<table border=\"1\" class=\"dataframe\">\n  <thead>\n    <tr style=\"text-align: right;\">\n      <th></th>\n      <th>Tables_in_sakila</th>\n      <th>Table_type</th>\n    </tr>\n  </thead>\n  <tbody>\n    <tr>\n      <th>0</th>\n      <td>actor</td>\n      <td>BASE TABLE</td>\n    </tr>\n    <tr>\n      <th>1</th>\n      <td>actor_info</td>\n      <td>VIEW</td>\n    </tr>\n    <tr>\n      <th>2</th>\n      <td>address</td>\n      <td>BASE TABLE</td>\n    </tr>\n    <tr>\n      <th>3</th>\n      <td>category</td>\n      <td>BASE TABLE</td>\n    </tr>\n    <tr>\n      <th>4</th>\n      <td>city</td>\n      <td>BASE TABLE</td>\n    </tr>\n    <tr>\n      <th>5</th>\n      <td>country</td>\n      <td>BASE TABLE</td>\n    </tr>\n    <tr>\n      <th>6</th>\n      <td>customer</td>\n      <td>BASE TABLE</td>\n    </tr>\n    <tr>\n      <th>7</th>\n      <td>customer_list</td>\n      <td>VIEW</td>\n    </tr>\n    <tr>\n      <th>8</th>\n      <td>film</td>\n      <td>BASE TABLE</td>\n    </tr>\n    <tr>\n      <th>9</th>\n      <td>film_actor</td>\n      <td>BASE TABLE</td>\n    </tr>\n    <tr>\n      <th>10</th>\n      <td>film_category</td>\n      <td>BASE TABLE</td>\n    </tr>\n    <tr>\n      <th>11</th>\n      <td>film_list</td>\n      <td>VIEW</td>\n    </tr>\n    <tr>\n      <th>12</th>\n      <td>film_text</td>\n      <td>BASE TABLE</td>\n    </tr>\n    <tr>\n      <th>13</th>\n      <td>inventory</td>\n      <td>BASE TABLE</td>\n    </tr>\n    <tr>\n      <th>14</th>\n      <td>language</td>\n      <td>BASE TABLE</td>\n    </tr>\n    <tr>\n      <th>15</th>\n      <td>nicer_but_slower_film_list</td>\n      <td>VIEW</td>\n    </tr>\n    <tr>\n      <th>16</th>\n      <td>payment</td>\n      <td>BASE TABLE</td>\n    </tr>\n    <tr>\n      <th>17</th>\n      <td>rental</td>\n      <td>BASE TABLE</td>\n    </tr>\n    <tr>\n      <th>18</th>\n      <td>sales_by_film_category</td>\n      <td>VIEW</td>\n    </tr>\n    <tr>\n      <th>19</th>\n      <td>sales_by_store</td>\n      <td>VIEW</td>\n    </tr>\n    <tr>\n      <th>20</th>\n      <td>staff</td>\n      <td>BASE TABLE</td>\n    </tr>\n    <tr>\n      <th>21</th>\n      <td>staff_list</td>\n      <td>VIEW</td>\n    </tr>\n    <tr>\n      <th>22</th>\n      <td>store</td>\n      <td>BASE TABLE</td>\n    </tr>\n  </tbody>\n</table>\n</div>"
     },
     "metadata": {},
     "execution_count": 5
    }
   ],
   "source": [
    "mycursor= mydb.cursor()\n",
    "mycursor.execute('''\n",
    "show full tables;\n",
    "''')\n",
    "myresult= mycursor.fetchall()\n",
    "# myresult\n",
    "columns= mycursor.column_names\n",
    "tables= pd.DataFrame(myresult, columns=columns)\n",
    "tables\n"
   ]
  },
  {
   "source": [
    "# Pertanyaan 1\n",
    "\n",
    "Dari berapa banyak district pelanggan kita berasal? Output yang diharapkan:"
   ],
   "cell_type": "markdown",
   "metadata": {}
  },
  {
   "source": [
    "# Pertanyaan 2\n",
    "\n",
    "Tampilkan 5 film yang paling sering dipinjam! Output yang diharapkan:"
   ],
   "cell_type": "markdown",
   "metadata": {}
  },
  {
   "cell_type": "code",
   "execution_count": 10,
   "metadata": {},
   "outputs": [
    {
     "output_type": "execute_result",
     "data": {
      "text/plain": [
       "   film_id             title  \\\n",
       "0        1  ACADEMY DINOSAUR   \n",
       "1        2    ACE GOLDFINGER   \n",
       "2        3  ADAPTATION HOLES   \n",
       "\n",
       "                                         description  release_year  \\\n",
       "0  A Epic Drama of a Feminist And a Mad Scientist...          2006   \n",
       "1  A Astounding Epistle of a Database Administrat...          2006   \n",
       "2  A Astounding Reflection of a Lumberjack And a ...          2006   \n",
       "\n",
       "   language_id original_language_id  rental_duration rental_rate  length  \\\n",
       "0            1                 None                6        0.99      86   \n",
       "1            1                 None                3        4.99      48   \n",
       "2            1                 None                7        2.99      50   \n",
       "\n",
       "  replacement_cost rating                     special_features  \\\n",
       "0            20.99     PG  {Deleted Scenes, Behind the Scenes}   \n",
       "1            12.99      G           {Trailers, Deleted Scenes}   \n",
       "2            18.99  NC-17           {Trailers, Deleted Scenes}   \n",
       "\n",
       "          last_update  \n",
       "0 2006-02-15 05:03:42  \n",
       "1 2006-02-15 05:03:42  \n",
       "2 2006-02-15 05:03:42  "
      ],
      "text/html": "<div>\n<style scoped>\n    .dataframe tbody tr th:only-of-type {\n        vertical-align: middle;\n    }\n\n    .dataframe tbody tr th {\n        vertical-align: top;\n    }\n\n    .dataframe thead th {\n        text-align: right;\n    }\n</style>\n<table border=\"1\" class=\"dataframe\">\n  <thead>\n    <tr style=\"text-align: right;\">\n      <th></th>\n      <th>film_id</th>\n      <th>title</th>\n      <th>description</th>\n      <th>release_year</th>\n      <th>language_id</th>\n      <th>original_language_id</th>\n      <th>rental_duration</th>\n      <th>rental_rate</th>\n      <th>length</th>\n      <th>replacement_cost</th>\n      <th>rating</th>\n      <th>special_features</th>\n      <th>last_update</th>\n    </tr>\n  </thead>\n  <tbody>\n    <tr>\n      <th>0</th>\n      <td>1</td>\n      <td>ACADEMY DINOSAUR</td>\n      <td>A Epic Drama of a Feminist And a Mad Scientist...</td>\n      <td>2006</td>\n      <td>1</td>\n      <td>None</td>\n      <td>6</td>\n      <td>0.99</td>\n      <td>86</td>\n      <td>20.99</td>\n      <td>PG</td>\n      <td>{Deleted Scenes, Behind the Scenes}</td>\n      <td>2006-02-15 05:03:42</td>\n    </tr>\n    <tr>\n      <th>1</th>\n      <td>2</td>\n      <td>ACE GOLDFINGER</td>\n      <td>A Astounding Epistle of a Database Administrat...</td>\n      <td>2006</td>\n      <td>1</td>\n      <td>None</td>\n      <td>3</td>\n      <td>4.99</td>\n      <td>48</td>\n      <td>12.99</td>\n      <td>G</td>\n      <td>{Trailers, Deleted Scenes}</td>\n      <td>2006-02-15 05:03:42</td>\n    </tr>\n    <tr>\n      <th>2</th>\n      <td>3</td>\n      <td>ADAPTATION HOLES</td>\n      <td>A Astounding Reflection of a Lumberjack And a ...</td>\n      <td>2006</td>\n      <td>1</td>\n      <td>None</td>\n      <td>7</td>\n      <td>2.99</td>\n      <td>50</td>\n      <td>18.99</td>\n      <td>NC-17</td>\n      <td>{Trailers, Deleted Scenes}</td>\n      <td>2006-02-15 05:03:42</td>\n    </tr>\n  </tbody>\n</table>\n</div>"
     },
     "metadata": {},
     "execution_count": 10
    }
   ],
   "source": [
    "mycursor= mydb.cursor()\n",
    "mycursor.execute('''\n",
    "select * from film limit 3;\n",
    "''')\n",
    "myresult= mycursor.fetchall()\n",
    "# myresult\n",
    "columns= mycursor.column_names\n",
    "pd.DataFrame(myresult, columns=columns)\n"
   ]
  },
  {
   "cell_type": "code",
   "execution_count": 18,
   "metadata": {},
   "outputs": [
    {
     "output_type": "execute_result",
     "data": {
      "text/plain": [
       "   customer_id  store_id first_name last_name  \\\n",
       "0            1         1       MARY     SMITH   \n",
       "1            2         1   PATRICIA   JOHNSON   \n",
       "2            3         1      LINDA  WILLIAMS   \n",
       "\n",
       "                                 email  address_id  active  \\\n",
       "0        MARY.SMITH@sakilacustomer.org           5       1   \n",
       "1  PATRICIA.JOHNSON@sakilacustomer.org           6       1   \n",
       "2    LINDA.WILLIAMS@sakilacustomer.org           7       1   \n",
       "\n",
       "          create_date         last_update  \n",
       "0 2006-02-14 22:04:36 2006-02-15 04:57:20  \n",
       "1 2006-02-14 22:04:36 2006-02-15 04:57:20  \n",
       "2 2006-02-14 22:04:36 2006-02-15 04:57:20  "
      ],
      "text/html": "<div>\n<style scoped>\n    .dataframe tbody tr th:only-of-type {\n        vertical-align: middle;\n    }\n\n    .dataframe tbody tr th {\n        vertical-align: top;\n    }\n\n    .dataframe thead th {\n        text-align: right;\n    }\n</style>\n<table border=\"1\" class=\"dataframe\">\n  <thead>\n    <tr style=\"text-align: right;\">\n      <th></th>\n      <th>customer_id</th>\n      <th>store_id</th>\n      <th>first_name</th>\n      <th>last_name</th>\n      <th>email</th>\n      <th>address_id</th>\n      <th>active</th>\n      <th>create_date</th>\n      <th>last_update</th>\n    </tr>\n  </thead>\n  <tbody>\n    <tr>\n      <th>0</th>\n      <td>1</td>\n      <td>1</td>\n      <td>MARY</td>\n      <td>SMITH</td>\n      <td>MARY.SMITH@sakilacustomer.org</td>\n      <td>5</td>\n      <td>1</td>\n      <td>2006-02-14 22:04:36</td>\n      <td>2006-02-15 04:57:20</td>\n    </tr>\n    <tr>\n      <th>1</th>\n      <td>2</td>\n      <td>1</td>\n      <td>PATRICIA</td>\n      <td>JOHNSON</td>\n      <td>PATRICIA.JOHNSON@sakilacustomer.org</td>\n      <td>6</td>\n      <td>1</td>\n      <td>2006-02-14 22:04:36</td>\n      <td>2006-02-15 04:57:20</td>\n    </tr>\n    <tr>\n      <th>2</th>\n      <td>3</td>\n      <td>1</td>\n      <td>LINDA</td>\n      <td>WILLIAMS</td>\n      <td>LINDA.WILLIAMS@sakilacustomer.org</td>\n      <td>7</td>\n      <td>1</td>\n      <td>2006-02-14 22:04:36</td>\n      <td>2006-02-15 04:57:20</td>\n    </tr>\n  </tbody>\n</table>\n</div>"
     },
     "metadata": {},
     "execution_count": 18
    }
   ],
   "source": [
    "mycursor= mydb.cursor()\n",
    "mycursor.execute('''\n",
    "select * from customer limit 3;\n",
    "''')\n",
    "myresult= mycursor.fetchall()\n",
    "# myresult\n",
    "columns= mycursor.column_names\n",
    "pd.DataFrame(myresult, columns=columns)\n"
   ]
  },
  {
   "cell_type": "code",
   "execution_count": 21,
   "metadata": {},
   "outputs": [
    {
     "output_type": "execute_result",
     "data": {
      "text/plain": [
       "   inventory_id  film_id  store_id         last_update\n",
       "0             1        1         1 2006-02-15 05:09:17\n",
       "1             2        1         1 2006-02-15 05:09:17\n",
       "2             3        1         1 2006-02-15 05:09:17"
      ],
      "text/html": "<div>\n<style scoped>\n    .dataframe tbody tr th:only-of-type {\n        vertical-align: middle;\n    }\n\n    .dataframe tbody tr th {\n        vertical-align: top;\n    }\n\n    .dataframe thead th {\n        text-align: right;\n    }\n</style>\n<table border=\"1\" class=\"dataframe\">\n  <thead>\n    <tr style=\"text-align: right;\">\n      <th></th>\n      <th>inventory_id</th>\n      <th>film_id</th>\n      <th>store_id</th>\n      <th>last_update</th>\n    </tr>\n  </thead>\n  <tbody>\n    <tr>\n      <th>0</th>\n      <td>1</td>\n      <td>1</td>\n      <td>1</td>\n      <td>2006-02-15 05:09:17</td>\n    </tr>\n    <tr>\n      <th>1</th>\n      <td>2</td>\n      <td>1</td>\n      <td>1</td>\n      <td>2006-02-15 05:09:17</td>\n    </tr>\n    <tr>\n      <th>2</th>\n      <td>3</td>\n      <td>1</td>\n      <td>1</td>\n      <td>2006-02-15 05:09:17</td>\n    </tr>\n  </tbody>\n</table>\n</div>"
     },
     "metadata": {},
     "execution_count": 21
    }
   ],
   "source": [
    "mycursor= mydb.cursor()\n",
    "mycursor.execute('''\n",
    "select * from inventory limit 3;\n",
    "''')\n",
    "myresult= mycursor.fetchall()\n",
    "# myresult\n",
    "columns= mycursor.column_names\n",
    "pd.DataFrame(myresult, columns=columns)\n"
   ]
  },
  {
   "cell_type": "code",
   "execution_count": 33,
   "metadata": {},
   "outputs": [
    {
     "output_type": "execute_result",
     "data": {
      "text/plain": [
       "              title  jumlah_dipinjam\n",
       "0  ACADEMY DINOSAUR                1\n",
       "1    ACE GOLDFINGER                1\n",
       "2  ADAPTATION HOLES                1"
      ],
      "text/html": "<div>\n<style scoped>\n    .dataframe tbody tr th:only-of-type {\n        vertical-align: middle;\n    }\n\n    .dataframe tbody tr th {\n        vertical-align: top;\n    }\n\n    .dataframe thead th {\n        text-align: right;\n    }\n</style>\n<table border=\"1\" class=\"dataframe\">\n  <thead>\n    <tr style=\"text-align: right;\">\n      <th></th>\n      <th>title</th>\n      <th>jumlah_dipinjam</th>\n    </tr>\n  </thead>\n  <tbody>\n    <tr>\n      <th>0</th>\n      <td>ACADEMY DINOSAUR</td>\n      <td>1</td>\n    </tr>\n    <tr>\n      <th>1</th>\n      <td>ACE GOLDFINGER</td>\n      <td>1</td>\n    </tr>\n    <tr>\n      <th>2</th>\n      <td>ADAPTATION HOLES</td>\n      <td>1</td>\n    </tr>\n  </tbody>\n</table>\n</div>"
     },
     "metadata": {},
     "execution_count": 33
    }
   ],
   "source": [
    "mycursor= mydb.cursor()\n",
    "mycursor.execute('''\n",
    "select title, count(title) as jumlah_dipinjam\n",
    "from film\n",
    "group by title\n",
    "order by jumlah_dipinjam desc\n",
    "limit 3;\n",
    "''')\n",
    "myresult= mycursor.fetchall()\n",
    "# myresult\n",
    "columns= mycursor.column_names\n",
    "pd.DataFrame(myresult, columns=columns)\n"
   ]
  },
  {
   "source": [
    "# Pertanyaan 3\n",
    "\n",
    "Tampilkan ** nama 5 pelanggan** yang paling sering meminjam film! Output yang diharapkan:"
   ],
   "cell_type": "markdown",
   "metadata": {}
  },
  {
   "cell_type": "code",
   "execution_count": null,
   "metadata": {},
   "outputs": [],
   "source": []
  },
  {
   "source": [
    "# Pertanyaan 4\n",
    "\n",
    "Dari hasil di atas kita tahu bahwa Eleanor Hunt adalah pelanggan yang paling sering meminjam film. Tampilkan genre film apa saja yang dipinjam oleh Eleanor Hunt! Urutkan dari jumlah terbesar. Output yang diharapkan:"
   ],
   "cell_type": "markdown",
   "metadata": {}
  },
  {
   "cell_type": "code",
   "execution_count": null,
   "metadata": {},
   "outputs": [],
   "source": []
  },
  {
   "cell_type": "code",
   "execution_count": 9,
   "metadata": {},
   "outputs": [
    {
     "output_type": "error",
     "ename": "ProgrammingError",
     "evalue": "1065 (42000): Query was empty",
     "traceback": [
      "\u001b[1;31m---------------------------------------------------------------------------\u001b[0m",
      "\u001b[1;31mProgrammingError\u001b[0m                          Traceback (most recent call last)",
      "\u001b[1;32m<ipython-input-9-a2e42f446ba8>\u001b[0m in \u001b[0;36m<module>\u001b[1;34m\u001b[0m\n\u001b[0;32m      1\u001b[0m \u001b[0mmycursor\u001b[0m\u001b[1;33m=\u001b[0m \u001b[0mmydb\u001b[0m\u001b[1;33m.\u001b[0m\u001b[0mcursor\u001b[0m\u001b[1;33m(\u001b[0m\u001b[1;33m)\u001b[0m\u001b[1;33m\u001b[0m\u001b[1;33m\u001b[0m\u001b[0m\n\u001b[1;32m----> 2\u001b[1;33m mycursor.execute('''\n\u001b[0m\u001b[0;32m      3\u001b[0m \u001b[1;33m\u001b[0m\u001b[0m\n\u001b[0;32m      4\u001b[0m ''')\n\u001b[0;32m      5\u001b[0m \u001b[0mmyresult\u001b[0m\u001b[1;33m=\u001b[0m \u001b[0mmycursor\u001b[0m\u001b[1;33m.\u001b[0m\u001b[0mfetchall\u001b[0m\u001b[1;33m(\u001b[0m\u001b[1;33m)\u001b[0m\u001b[1;33m\u001b[0m\u001b[1;33m\u001b[0m\u001b[0m\n",
      "\u001b[1;32m~\\anaconda3\\lib\\site-packages\\mysql\\connector\\cursor.py\u001b[0m in \u001b[0;36mexecute\u001b[1;34m(self, operation, params, multi)\u001b[0m\n\u001b[0;32m    575\u001b[0m \u001b[1;33m\u001b[0m\u001b[0m\n\u001b[0;32m    576\u001b[0m         \u001b[1;32mtry\u001b[0m\u001b[1;33m:\u001b[0m\u001b[1;33m\u001b[0m\u001b[1;33m\u001b[0m\u001b[0m\n\u001b[1;32m--> 577\u001b[1;33m             \u001b[0mself\u001b[0m\u001b[1;33m.\u001b[0m\u001b[0m_handle_result\u001b[0m\u001b[1;33m(\u001b[0m\u001b[0mself\u001b[0m\u001b[1;33m.\u001b[0m\u001b[0m_connection\u001b[0m\u001b[1;33m.\u001b[0m\u001b[0mcmd_query\u001b[0m\u001b[1;33m(\u001b[0m\u001b[0mstmt\u001b[0m\u001b[1;33m)\u001b[0m\u001b[1;33m)\u001b[0m\u001b[1;33m\u001b[0m\u001b[1;33m\u001b[0m\u001b[0m\n\u001b[0m\u001b[0;32m    578\u001b[0m         \u001b[1;32mexcept\u001b[0m \u001b[0merrors\u001b[0m\u001b[1;33m.\u001b[0m\u001b[0mInterfaceError\u001b[0m\u001b[1;33m:\u001b[0m\u001b[1;33m\u001b[0m\u001b[1;33m\u001b[0m\u001b[0m\n\u001b[0;32m    579\u001b[0m             \u001b[1;32mif\u001b[0m \u001b[0mself\u001b[0m\u001b[1;33m.\u001b[0m\u001b[0m_connection\u001b[0m\u001b[1;33m.\u001b[0m\u001b[0m_have_next_result\u001b[0m\u001b[1;33m:\u001b[0m  \u001b[1;31m# pylint: disable=W0212\u001b[0m\u001b[1;33m\u001b[0m\u001b[1;33m\u001b[0m\u001b[0m\n",
      "\u001b[1;32m~\\anaconda3\\lib\\site-packages\\mysql\\connector\\connection.py\u001b[0m in \u001b[0;36mcmd_query\u001b[1;34m(self, query, raw, buffered, raw_as_string)\u001b[0m\n\u001b[0;32m    693\u001b[0m             \u001b[0mquery\u001b[0m \u001b[1;33m=\u001b[0m \u001b[0mquery\u001b[0m\u001b[1;33m.\u001b[0m\u001b[0mencode\u001b[0m\u001b[1;33m(\u001b[0m\u001b[1;34m'utf-8'\u001b[0m\u001b[1;33m)\u001b[0m\u001b[1;33m\u001b[0m\u001b[1;33m\u001b[0m\u001b[0m\n\u001b[0;32m    694\u001b[0m         \u001b[1;32mtry\u001b[0m\u001b[1;33m:\u001b[0m\u001b[1;33m\u001b[0m\u001b[1;33m\u001b[0m\u001b[0m\n\u001b[1;32m--> 695\u001b[1;33m             \u001b[0mresult\u001b[0m \u001b[1;33m=\u001b[0m \u001b[0mself\u001b[0m\u001b[1;33m.\u001b[0m\u001b[0m_handle_result\u001b[0m\u001b[1;33m(\u001b[0m\u001b[0mself\u001b[0m\u001b[1;33m.\u001b[0m\u001b[0m_send_cmd\u001b[0m\u001b[1;33m(\u001b[0m\u001b[0mServerCmd\u001b[0m\u001b[1;33m.\u001b[0m\u001b[0mQUERY\u001b[0m\u001b[1;33m,\u001b[0m \u001b[0mquery\u001b[0m\u001b[1;33m)\u001b[0m\u001b[1;33m)\u001b[0m\u001b[1;33m\u001b[0m\u001b[1;33m\u001b[0m\u001b[0m\n\u001b[0m\u001b[0;32m    696\u001b[0m         \u001b[1;32mexcept\u001b[0m \u001b[0merrors\u001b[0m\u001b[1;33m.\u001b[0m\u001b[0mProgrammingError\u001b[0m \u001b[1;32mas\u001b[0m \u001b[0merr\u001b[0m\u001b[1;33m:\u001b[0m\u001b[1;33m\u001b[0m\u001b[1;33m\u001b[0m\u001b[0m\n\u001b[0;32m    697\u001b[0m             \u001b[1;32mif\u001b[0m \u001b[0merr\u001b[0m\u001b[1;33m.\u001b[0m\u001b[0merrno\u001b[0m \u001b[1;33m==\u001b[0m \u001b[1;36m3948\u001b[0m \u001b[1;32mand\u001b[0m\u001b[0;31m \u001b[0m\u001b[0;31m\\\u001b[0m\u001b[1;33m\u001b[0m\u001b[1;33m\u001b[0m\u001b[0m\n",
      "\u001b[1;32m~\\anaconda3\\lib\\site-packages\\mysql\\connector\\connection.py\u001b[0m in \u001b[0;36m_handle_result\u001b[1;34m(self, packet)\u001b[0m\n\u001b[0;32m    580\u001b[0m             \u001b[1;32mreturn\u001b[0m \u001b[0mself\u001b[0m\u001b[1;33m.\u001b[0m\u001b[0m_handle_eof\u001b[0m\u001b[1;33m(\u001b[0m\u001b[0mpacket\u001b[0m\u001b[1;33m)\u001b[0m\u001b[1;33m\u001b[0m\u001b[1;33m\u001b[0m\u001b[0m\n\u001b[0;32m    581\u001b[0m         \u001b[1;32melif\u001b[0m \u001b[0mpacket\u001b[0m\u001b[1;33m[\u001b[0m\u001b[1;36m4\u001b[0m\u001b[1;33m]\u001b[0m \u001b[1;33m==\u001b[0m \u001b[1;36m255\u001b[0m\u001b[1;33m:\u001b[0m\u001b[1;33m\u001b[0m\u001b[1;33m\u001b[0m\u001b[0m\n\u001b[1;32m--> 582\u001b[1;33m             \u001b[1;32mraise\u001b[0m \u001b[0merrors\u001b[0m\u001b[1;33m.\u001b[0m\u001b[0mget_exception\u001b[0m\u001b[1;33m(\u001b[0m\u001b[0mpacket\u001b[0m\u001b[1;33m)\u001b[0m\u001b[1;33m\u001b[0m\u001b[1;33m\u001b[0m\u001b[0m\n\u001b[0m\u001b[0;32m    583\u001b[0m \u001b[1;33m\u001b[0m\u001b[0m\n\u001b[0;32m    584\u001b[0m         \u001b[1;31m# We have a text result set\u001b[0m\u001b[1;33m\u001b[0m\u001b[1;33m\u001b[0m\u001b[1;33m\u001b[0m\u001b[0m\n",
      "\u001b[1;31mProgrammingError\u001b[0m: 1065 (42000): Query was empty"
     ]
    }
   ],
   "source": [
    "mycursor= mydb.cursor()\n",
    "mycursor.execute('''\n",
    "\n",
    "''')\n",
    "myresult= mycursor.fetchall()\n",
    "# myresult\n",
    "columns= mycursor.column_names\n",
    "pd.DataFrame(myresult, columns=columns)\n"
   ]
  },
  {
   "cell_type": "code",
   "execution_count": null,
   "metadata": {},
   "outputs": [],
   "source": []
  }
 ]
}